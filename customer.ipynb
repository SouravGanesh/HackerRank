{
 "cells": [
  {
   "cell_type": "code",
   "execution_count": 0,
   "metadata": {
    "application/vnd.databricks.v1+cell": {
     "cellMetadata": {
      "byteLimit": 2048000,
      "rowLimit": 10000
     },
     "inputWidgets": {},
     "nuid": "17386c19-0aff-4f8d-956d-9897df26ca5e",
     "showTitle": false,
     "title": ""
    }
   },
   "outputs": [],
   "source": [
    "%run \"../includes/configurations\""
   ]
  },
  {
   "cell_type": "code",
   "execution_count": 0,
   "metadata": {
    "application/vnd.databricks.v1+cell": {
     "cellMetadata": {
      "byteLimit": 2048000,
      "rowLimit": 10000
     },
     "inputWidgets": {},
     "nuid": "28c8ffda-999a-44f0-b2b2-8edb69cb25a3",
     "showTitle": false,
     "title": ""
    }
   },
   "outputs": [],
   "source": [
    "%run \"../includes/common_functions\""
   ]
  },
  {
   "cell_type": "code",
   "execution_count": 0,
   "metadata": {
    "application/vnd.databricks.v1+cell": {
     "cellMetadata": {
      "byteLimit": 2048000,
      "rowLimit": 10000
     },
     "inputWidgets": {},
     "nuid": "91ecf04c-7016-49cd-8c9e-a2f1cdcdd602",
     "showTitle": false,
     "title": ""
    }
   },
   "outputs": [],
   "source": [
    "# Importing required libraries\n",
    "from pyspark.sql.types import StructType, StructField, IntegerType, StringType, DoubleType, BooleanType\n",
    "from delta.tables import DeltaTable"
   ]
  },
  {
   "cell_type": "code",
   "execution_count": 0,
   "metadata": {
    "application/vnd.databricks.v1+cell": {
     "cellMetadata": {
      "byteLimit": 2048000,
      "rowLimit": 10000
     },
     "inputWidgets": {},
     "nuid": "74d1a0ab-7488-4d44-8bf4-e8f092077bb4",
     "showTitle": false,
     "title": ""
    }
   },
   "outputs": [],
   "source": [
    "# Reading delta data from silver container\n",
    "customer_df = spark.read.format(\"delta\").load(f\"{silver_folder_path}/customer\")"
   ]
  },
  {
   "cell_type": "code",
   "execution_count": 0,
   "metadata": {
    "application/vnd.databricks.v1+cell": {
     "cellMetadata": {
      "byteLimit": 2048000,
      "rowLimit": 10000
     },
     "inputWidgets": {},
     "nuid": "675f1e89-e44f-40e2-8417-9159e8c1e805",
     "showTitle": false,
     "title": ""
    }
   },
   "outputs": [],
   "source": [
    "# Selecting required columns\n",
    "tmp_customer = customer_df.select('customer_id',\n",
    "                                  'first_name',\n",
    "                                  'last_name',\n",
    "                                  'phone',\n",
    "                                  'email',\n",
    "                                  'gender',\n",
    "                                  'is_active')"
   ]
  },
  {
   "cell_type": "code",
   "execution_count": 0,
   "metadata": {
    "application/vnd.databricks.v1+cell": {
     "cellMetadata": {
      "byteLimit": 2048000,
      "rowLimit": 10000
     },
     "inputWidgets": {},
     "nuid": "6c2292c7-c708-42fa-9f97-738a10cb7cbf",
     "showTitle": false,
     "title": ""
    }
   },
   "outputs": [],
   "source": [
    "# Adding insert timestamp column\n",
    "tmp_customer = add_insert_timestamp(tmp_customer)"
   ]
  },
  {
   "cell_type": "code",
   "execution_count": 0,
   "metadata": {
    "application/vnd.databricks.v1+cell": {
     "cellMetadata": {
      "byteLimit": 2048000,
      "rowLimit": 10000
     },
     "inputWidgets": {},
     "nuid": "867e3fd5-06dc-4e59-94a1-d600806dc468",
     "showTitle": false,
     "title": ""
    }
   },
   "outputs": [],
   "source": [
    "# APPLYING / USING UPSERT TECHNIQUE BECAUSE CUSTOMER IS A MASTER TABLE\n",
    "# Before we made and upsert, we need to validate that the delta table already exists \n",
    "# To solve this scenario we added an if condition that validates if there is data on the container\n",
    "# If data not exists, it's the first time we are going to write it to the gold container in delta format\n",
    "folder_path = f\"{gold_folder_path}/customer\"\n",
    "\n",
    "if (DeltaTable.isDeltaTable(spark, folder_path)):\n",
    "    deltaTable = DeltaTable.forPath(spark, folder_path)\n",
    "    dfUpdates = tmp_customer\n",
    "    \n",
    "    deltaTable.alias('src') \\\n",
    "      .merge(\n",
    "        dfUpdates.alias('upd'),\n",
    "        \"src.customer_id = upd.customer_id\"\n",
    "      ) \\\n",
    "      .whenMatchedUpdateAll() \\\n",
    "      .whenNotMatchedInsertAll() \\\n",
    "      .execute()\n",
    "else:\n",
    "    tmp_customer.write.mode(\"overwrite\").format(\"delta\").save(folder_path)"
   ]
  },
  {
   "cell_type": "code",
   "execution_count": 0,
   "metadata": {
    "application/vnd.databricks.v1+cell": {
     "cellMetadata": {
      "byteLimit": 2048000,
      "rowLimit": 10000
     },
     "inputWidgets": {},
     "nuid": "b6b71ecd-c10b-4c52-b57f-0b727b6f62fd",
     "showTitle": false,
     "title": ""
    }
   },
   "outputs": [
    {
     "output_type": "execute_result",
     "data": {
      "text/plain": [
       "DataFrame[]"
      ]
     },
     "execution_count": 8,
     "metadata": {},
     "output_type": "execute_result"
    }
   ],
   "source": [
    "# Create master customer table on our database\n",
    "spark.sql(f\"CREATE EXTERNAL TABLE IF NOT EXISTS azure_de_terraform_proj.customer USING DELTA LOCATION '{gold_folder_path}/customer'\")"
   ]
  },
  {
   "cell_type": "code",
   "execution_count": 0,
   "metadata": {
    "application/vnd.databricks.v1+cell": {
     "cellMetadata": {
      "byteLimit": 2048000,
      "rowLimit": 10000
     },
     "inputWidgets": {},
     "nuid": "1be7841f-9f17-47b9-986c-2fcc8a8fe774",
     "showTitle": false,
     "title": ""
    }
   },
   "outputs": [],
   "source": [
    "# Display success message\n",
    "dbutils.notebook.exit(\"Success\")"
   ]
  },
  {
   "cell_type": "code",
   "execution_count": 0,
   "metadata": {
    "application/vnd.databricks.v1+cell": {
     "cellMetadata": {},
     "inputWidgets": {},
     "nuid": "1daea3f0-40be-4716-ba1e-cfbdc7809db7",
     "showTitle": false,
     "title": ""
    }
   },
   "outputs": [],
   "source": []
  }
 ],
 "metadata": {
  "application/vnd.databricks.v1+notebook": {
   "dashboards": [],
   "language": "python",
   "notebookMetadata": {
    "pythonIndentUnit": 4
   },
   "notebookName": "customer",
   "widgets": {}
  }
 },
 "nbformat": 4,
 "nbformat_minor": 0
}
